{
 "cells": [
  {
   "cell_type": "markdown",
   "metadata": {},
   "source": [
    "**Recuerde no agregar o quitar celdas en este notebook, ni modificar su tipo. Si lo hace, el sistema automaticamente lo calificará con cero punto cero (0.0)**"
   ]
  },
  {
   "cell_type": "markdown",
   "metadata": {},
   "source": [
    "Use el siguiente conjunto de datos para resolver los problemas propuestos. Use [gradetool](gradetool.md) para verificar las respuestas del notebook."
   ]
  },
  {
   "cell_type": "code",
   "execution_count": 297,
   "metadata": {},
   "outputs": [
    {
     "name": "stdout",
     "output_type": "stream",
     "text": [
      "Writing data.csv\n"
     ]
    }
   ],
   "source": [
    "%%writefile data.csv\n",
    "1,Vivian,Hamilton,1971-07-08,green,1\n",
    "2,Karen,Holcomb,1974-05-23,green,4\n",
    "3,Cody,Garrett,1973-04-22,orange,1\n",
    "4,Roth,Fry,1975-01-29,black,1\n",
    "5,Zoe,Conway,1974-07-03,blue,2\n",
    "6,Gretchen,Kinney,1974-10-18,viole,1\n",
    "7,Driscoll,Klein,1970-10-05,blue,5\n",
    "8,Karyn,Diaz,1969-02-24,red,1\n",
    "9,Merritt,Guy,1974-10-17,indigo,4\n",
    "10,Kylan,Sexton,1975-02-28,black,4\n",
    "11,Jordan,Estes,1969-12-07,indigo,4\n",
    "12,Hope,Coffey,1973-12-24,green,5\n",
    "13,Vivian,Crane,1970-08-27,gray,5\n",
    "14,Clio,Noel,1972-12-12,red,5\n",
    "15,Hope,Silva,1970-07-01,blue,5\n",
    "16,Ayanna,Jarvis,1974-02-11,orange,5\n",
    "17,Chanda,Boyer,1973-04-01,green,4\n",
    "18,Chadwick,Knight,1973-04-29,yellow,1"
   ]
  },
  {
   "cell_type": "code",
   "execution_count": 298,
   "metadata": {},
   "outputs": [
    {
     "name": "stdout",
     "output_type": "stream",
     "text": [
      "The bigdata extension is already loaded. To reload it, use:\n",
      "  %reload_ext bigdata\n"
     ]
    }
   ],
   "source": [
    "%load_ext bigdata\n",
    "%pig_init"
   ]
  },
  {
   "cell_type": "code",
   "execution_count": 299,
   "metadata": {
    "scrolled": true
   },
   "outputs": [],
   "source": [
    "%%pig\n",
    "u = LOAD 'data.csv' USING PigStorage(',') \n",
    "    AS (id:int, \n",
    "        firstname:CHARARRAY, \n",
    "        surname:CHARARRAY, \n",
    "        birthday:CHARARRAY, \n",
    "        color:CHARARRAY, \n",
    "        quantity:INT);"
   ]
  },
  {
   "cell_type": "markdown",
   "metadata": {},
   "source": [
    "## Pregunta 1\n",
    "\n",
    "Escriba una consulta en Pig que genere la siguiente salida:\n",
    "\n",
    "    (Vivian@Hamilton)\n",
    "    (Karen@Holcomb)\n",
    "    (Cody@Garrett)\n",
    "    (Roth@Fry)\n",
    "    (Zoe@Conway)\n",
    "    (Gretchen@Kinney)\n",
    "    (Driscoll@Klein)\n",
    "    (Karyn@Diaz)\n",
    "    (Merritt@Guy)\n",
    "    (Kylan@Sexton)\n",
    "    (Jordan@Estes)\n",
    "    (Hope@Coffey)\n",
    "    (Vivian@Crane)\n",
    "    (Clio@Noel)\n",
    "    (Hope@Silva)\n",
    "    (Ayanna@Jarvis)\n",
    "    (Chanda@Boyer)\n",
    "    (Chadwick@Knight)"
   ]
  },
  {
   "cell_type": "code",
   "execution_count": 58,
   "metadata": {},
   "outputs": [
    {
     "name": "stdout",
     "output_type": "stream",
     "text": [
      "(Vivian@Hamilton)\n",
      "(Karen@Holcomb)\n",
      "(Cody@Garrett)\n",
      "(Roth@Fry)\n",
      "(Zoe@Conway)\n",
      "(Gretchen@Kinney)\n",
      "(Driscoll@Klein)\n",
      "(Karyn@Diaz)\n",
      "(Merritt@Guy)\n",
      "(Kylan@Sexton)\n",
      "(Jordan@Estes)\n",
      "(Hope@Coffey)\n",
      "(Vivian@Crane)\n",
      "(Clio@Noel)\n",
      "(Hope@Silva)\n",
      "(Ayanna@Jarvis)\n",
      "(Chanda@Boyer)\n",
      "(Chadwick@Knight)\n"
     ]
    }
   ],
   "source": [
    "%%pig\n",
    "a = foreach u generate CONCAT(firstname,'@',surname);\n",
    "dump a;"
   ]
  },
  {
   "cell_type": "markdown",
   "metadata": {},
   "source": [
    "## Pregunta 2\n",
    "\n",
    "Genere una relación con el apellido y su longitud. Ordene por longitud y por apellido. Obtenga la siguiente salida.\n",
    "\n",
    "    (Hamilton,8)\n",
    "    (Garrett,7)\n",
    "    (Holcomb,7)\n",
    "    (Coffey,6)\n",
    "    (Conway,6)"
   ]
  },
  {
   "cell_type": "code",
   "execution_count": 59,
   "metadata": {},
   "outputs": [
    {
     "name": "stdout",
     "output_type": "stream",
     "text": [
      "(Hamilton,8)\n",
      "(Garrett,7)\n",
      "(Holcomb,7)\n",
      "(Coffey,6)\n",
      "(Conway,6)\n"
     ]
    }
   ],
   "source": [
    "%%pig\n",
    "b = foreach u generate surname, SIZE(surname);\n",
    "b = order b by $1 desc, $0;\n",
    "b = limit b 5;\n",
    "dump b;"
   ]
  },
  {
   "cell_type": "markdown",
   "metadata": {},
   "source": [
    "## Pregunta 3\n",
    "\n",
    "Escriba el código que genere la siguiente salida.\n",
    "\n",
    "    (Hamilton,HAMILTON,hamilton)\n",
    "    (Holcomb,HOLCOMB,holcomb)\n",
    "    (Garrett,GARRETT,garrett)\n",
    "    (Fry,FRY,fry)\n",
    "    (Conway,CONWAY,conway)"
   ]
  },
  {
   "cell_type": "code",
   "execution_count": 60,
   "metadata": {},
   "outputs": [
    {
     "name": "stdout",
     "output_type": "stream",
     "text": [
      "(Hamilton,HAMILTON,hamilton)\n",
      "(Holcomb,HOLCOMB,holcomb)\n",
      "(Garrett,GARRETT,garrett)\n",
      "(Fry,FRY,fry)\n",
      "(Conway,CONWAY,conway)\n"
     ]
    }
   ],
   "source": [
    "%%pig\n",
    "c = foreach u generate surname, UPPER(surname), LOWER(surname);\n",
    "c = limit c 5;\n",
    "dump c;"
   ]
  },
  {
   "cell_type": "markdown",
   "metadata": {},
   "source": [
    "## Pregunta 4\n",
    "\n",
    "Obtenga los apellidos que empiecen por las letras entre la 'd' y la 'k'. La salida esperada es la siguiente:\n",
    "\n",
    "    (Hamilton)\n",
    "    (Holcomb)\n",
    "    (Garrett)\n",
    "    (Fry)\n",
    "    (Kinney)\n",
    "    (Klein)\n",
    "    (Diaz)\n",
    "    (Guy)\n",
    "    (Estes)\n",
    "    (Jarvis)\n",
    "    (Knight)"
   ]
  },
  {
   "cell_type": "code",
   "execution_count": 240,
   "metadata": {},
   "outputs": [
    {
     "name": "stdout",
     "output_type": "stream",
     "text": [
      "(Hamilton)\n",
      "(Holcomb)\n",
      "(Garrett)\n",
      "(Fry)\n",
      "(Kinney)\n",
      "(Klein)\n",
      "(Diaz)\n",
      "(Guy)\n",
      "(Estes)\n",
      "(Jarvis)\n",
      "(Knight)\n"
     ]
    }
   ],
   "source": [
    "%%pig\n",
    "d = foreach u generate surname;\n",
    "d = filter d BY (surname matches '(D).*' or surname matches '(E).*' or\n",
    "                 surname matches '(F).*' or surname matches '(G).*' or\n",
    "                 surname matches '(H).*' or surname matches '(I).*' or\n",
    "                 surname matches '(J).*' or surname matches '(K).*');\n",
    "d = foreach d generate $0;\n",
    "DUMP d;"
   ]
  },
  {
   "cell_type": "markdown",
   "metadata": {},
   "source": [
    "## Pregunta 5\n",
    "\n",
    "Escriba el código equivalente a la siguiente consulta en SQL.\n",
    "\n",
    "    SELECT\n",
    "        color\n",
    "    FROM \n",
    "        u \n",
    "    WHERE \n",
    "        color \n",
    "    LIKE 'b%';"
   ]
  },
  {
   "cell_type": "code",
   "execution_count": 61,
   "metadata": {},
   "outputs": [
    {
     "name": "stdout",
     "output_type": "stream",
     "text": [
      "(black)\n",
      "(blue)\n",
      "(blue)\n",
      "(black)\n",
      "(blue)\n"
     ]
    }
   ],
   "source": [
    "%%pig\n",
    "e = foreach u generate color;\n",
    "e = filter e by $0 MATCHES 'b.*';\n",
    "dump e;"
   ]
  },
  {
   "cell_type": "markdown",
   "metadata": {},
   "source": [
    "## Pregunta 6\n",
    "\n",
    "Escriba el código equivalente a la siguiente consulta SQL.\n",
    "\n",
    "    SELECT \n",
    "        color \n",
    "    FROM \n",
    "        u \n",
    "    WHERE \n",
    "        color NOT LIKE 'b%';"
   ]
  },
  {
   "cell_type": "code",
   "execution_count": 62,
   "metadata": {},
   "outputs": [
    {
     "name": "stdout",
     "output_type": "stream",
     "text": [
      "(green)\n",
      "(green)\n",
      "(orange)\n",
      "(viole)\n",
      "(red)\n",
      "(indigo)\n",
      "(indigo)\n",
      "(green)\n",
      "(gray)\n",
      "(red)\n",
      "(orange)\n",
      "(green)\n",
      "(yellow)\n"
     ]
    }
   ],
   "source": [
    "%%pig\n",
    "f = foreach u generate color;\n",
    "f = filter f by NOT($0 MATCHES 'b.*');\n",
    "dump f;"
   ]
  },
  {
   "cell_type": "markdown",
   "metadata": {},
   "source": [
    "## Pregunta 7\n",
    "\n",
    "Escriba el código equivalente a la siguiente consulta SQL.\n",
    "\n",
    "    SELECT \n",
    "        firstname,\n",
    "        color\n",
    "    FROM \n",
    "        u \n",
    "    WHERE color = 'blue' AND firstname LIKE 'Z%';"
   ]
  },
  {
   "cell_type": "code",
   "execution_count": 63,
   "metadata": {},
   "outputs": [
    {
     "name": "stdout",
     "output_type": "stream",
     "text": [
      "(Zoe,blue)\n"
     ]
    }
   ],
   "source": [
    "%%pig\n",
    "g = foreach u generate firstname, color;\n",
    "g = filter g by $0 MATCHES 'Z.*' and $1 MATCHES 'blue';\n",
    "dump g;"
   ]
  },
  {
   "cell_type": "markdown",
   "metadata": {},
   "source": [
    "## Pregunta 8\n",
    "\n",
    "Escriba el código equivalente a la siguiente consulta SQL.\n",
    "\n",
    "    SELECT\n",
    "        firstname,\n",
    "        color\n",
    "    FROM \n",
    "        u\n",
    "    WHERE color = 'blue' OR firstname LIKE 'K%';"
   ]
  },
  {
   "cell_type": "code",
   "execution_count": 64,
   "metadata": {},
   "outputs": [
    {
     "name": "stdout",
     "output_type": "stream",
     "text": [
      "(Karen,green)\n",
      "(Zoe,blue)\n",
      "(Driscoll,blue)\n",
      "(Karyn,red)\n",
      "(Kylan,black)\n",
      "(Hope,blue)\n"
     ]
    }
   ],
   "source": [
    "%%pig\n",
    "h = foreach u generate firstname, color;\n",
    "h = filter h by $0 MATCHES 'K.*' or $1 MATCHES 'blue';\n",
    "dump h;"
   ]
  },
  {
   "cell_type": "markdown",
   "metadata": {},
   "source": [
    "## Pregunta 9\n",
    "\n",
    "Escriba el código equivalente a la siguiente consulta SQL.\n",
    "\n",
    "    SELECT \n",
    "        firstname, color \n",
    "    FROM \n",
    "        u\n",
    "    WHERE color IN ('blue','black');"
   ]
  },
  {
   "cell_type": "code",
   "execution_count": 65,
   "metadata": {},
   "outputs": [
    {
     "name": "stdout",
     "output_type": "stream",
     "text": [
      "(Roth,black)\n",
      "(Zoe,blue)\n",
      "(Driscoll,blue)\n",
      "(Kylan,black)\n",
      "(Hope,blue)\n"
     ]
    }
   ],
   "source": [
    "%%pig\n",
    "i = foreach u generate firstname, color;\n",
    "i = filter i by $1 in ('blue','black');\n",
    "dump i;"
   ]
  },
  {
   "cell_type": "markdown",
   "metadata": {},
   "source": [
    "## Pregunta 10\n",
    "\n",
    "Escriba el código equivalente a la siguiente consulta SQL.\n",
    "\n",
    "    SELECT \n",
    "        firstname, \n",
    "        color \n",
    "    FROM \n",
    "        u \n",
    "    WHERE color NOT IN ('blue','black');"
   ]
  },
  {
   "cell_type": "code",
   "execution_count": 66,
   "metadata": {},
   "outputs": [
    {
     "name": "stdout",
     "output_type": "stream",
     "text": [
      "(Vivian,green)\n",
      "(Karen,green)\n",
      "(Cody,orange)\n",
      "(Gretchen,viole)\n",
      "(Karyn,red)\n",
      "(Merritt,indigo)\n",
      "(Jordan,indigo)\n",
      "(Hope,green)\n",
      "(Vivian,gray)\n",
      "(Clio,red)\n",
      "(Ayanna,orange)\n",
      "(Chanda,green)\n",
      "(Chadwick,yellow)\n"
     ]
    }
   ],
   "source": [
    "%%pig\n",
    "j = foreach u generate firstname, color;\n",
    "j = filter j by NOT $1 IN ('blue','black');\n",
    "dump j;"
   ]
  },
  {
   "cell_type": "markdown",
   "metadata": {},
   "source": [
    "## Pregunta 11\n",
    "\n",
    "Escriba el código equivalente a la siguiente consulta SQL.\n",
    "\n",
    "    SELECT\n",
    "        firstname,\n",
    "        color\n",
    "    FROM \n",
    "        u \n",
    "    WHERE \n",
    "        color REGEXP '^b';"
   ]
  },
  {
   "cell_type": "code",
   "execution_count": 67,
   "metadata": {},
   "outputs": [
    {
     "name": "stdout",
     "output_type": "stream",
     "text": [
      "(Roth,black)\n",
      "(Zoe,blue)\n",
      "(Driscoll,blue)\n",
      "(Kylan,black)\n",
      "(Hope,blue)\n"
     ]
    }
   ],
   "source": [
    "%%pig\n",
    "k = foreach u generate firstname, color;\n",
    "k = filter k by $1 MATCHES 'b.*';\n",
    "dump k;"
   ]
  },
  {
   "cell_type": "markdown",
   "metadata": {},
   "source": [
    "## Pregunta 12\n",
    "\n",
    "Escriba el código equivalente a la siguiente consulta SQL.\n",
    "\n",
    "    SELECT\n",
    "        firstname,\n",
    "        color\n",
    "    FROM \n",
    "        u \n",
    "    WHERE \n",
    "        color REGEXP '^[^b]';"
   ]
  },
  {
   "cell_type": "code",
   "execution_count": 68,
   "metadata": {},
   "outputs": [
    {
     "name": "stdout",
     "output_type": "stream",
     "text": [
      "(Vivian,green)\n",
      "(Karen,green)\n",
      "(Cody,orange)\n",
      "(Gretchen,viole)\n",
      "(Karyn,red)\n",
      "(Merritt,indigo)\n",
      "(Jordan,indigo)\n",
      "(Hope,green)\n",
      "(Vivian,gray)\n",
      "(Clio,red)\n",
      "(Ayanna,orange)\n",
      "(Chanda,green)\n",
      "(Chadwick,yellow)\n"
     ]
    }
   ],
   "source": [
    "%%pig\n",
    "l = foreach u generate firstname, color;\n",
    "l = filter l by NOT ($1 MATCHES 'b.*');\n",
    "dump l;"
   ]
  },
  {
   "cell_type": "markdown",
   "metadata": {},
   "source": [
    "## Pregunta 13\n",
    "\n",
    "Escriba el código equivalente a la siguiente consulta SQL.\n",
    "\n",
    "    SELECT \n",
    "        firstname,\n",
    "        color\n",
    "    FROM \n",
    "        u\n",
    "    WHERE \n",
    "        color REGEXP 'blue|green';"
   ]
  },
  {
   "cell_type": "code",
   "execution_count": 69,
   "metadata": {},
   "outputs": [
    {
     "name": "stdout",
     "output_type": "stream",
     "text": [
      "(Vivian,green)\n",
      "(Karen,green)\n",
      "(Zoe,blue)\n",
      "(Driscoll,blue)\n",
      "(Hope,green)\n",
      "(Hope,blue)\n",
      "(Chanda,green)\n"
     ]
    }
   ],
   "source": [
    "%%pig\n",
    "m = foreach u generate firstname, color;\n",
    "m = filter m by $1 in ('blue','green');\n",
    "dump m;"
   ]
  },
  {
   "cell_type": "markdown",
   "metadata": {},
   "source": [
    "## Pregunta 14\n",
    "\n",
    "Escriba el código equivalente a la siguiente consulta SQL.\n",
    "\n",
    "    SELECT \n",
    "        firstname,\n",
    "        color\n",
    "    FROM \n",
    "        u\n",
    "    WHERE \n",
    "        color REGEXP '.n';"
   ]
  },
  {
   "cell_type": "code",
   "execution_count": 87,
   "metadata": {},
   "outputs": [
    {
     "name": "stdout",
     "output_type": "stream",
     "text": [
      "(Vivian,green)\n",
      "(Karen,green)\n",
      "(Hope,green)\n",
      "(Chanda,green)\n"
     ]
    }
   ],
   "source": [
    "%%pig\n",
    "n = foreach u generate firstname, color;\n",
    "n = filter n by $1 MATCHES '.*.n';\n",
    "dump n;"
   ]
  },
  {
   "cell_type": "markdown",
   "metadata": {},
   "source": [
    "## Pregunta 15\n",
    "\n",
    "Escriba el código equivalente a la siguiente consulta SQL.\n",
    "\n",
    "    SELECT \n",
    "        firstname,\n",
    "        color \n",
    "    FROM \n",
    "        u \n",
    "    WHERE \n",
    "        color REGEXP '[aeiou]$';"
   ]
  },
  {
   "cell_type": "code",
   "execution_count": 243,
   "metadata": {},
   "outputs": [
    {
     "name": "stdout",
     "output_type": "stream",
     "text": [
      "(Cody,orange)\n",
      "(Zoe,blue)\n",
      "(Gretchen,viole)\n",
      "(Driscoll,blue)\n",
      "(Merritt,indigo)\n",
      "(Jordan,indigo)\n",
      "(Hope,blue)\n",
      "(Ayanna,orange)\n"
     ]
    }
   ],
   "source": [
    "%%pig\n",
    "o = foreach u generate firstname,\n",
    "SUBSTRING(color,(int)(SIZE(color)-1),(int)SIZE(color)),color;\n",
    "o = filter o by $1 in ('a','e','i','o','u');\n",
    "o = foreach o generate $0, $2;\n",
    "dump o;"
   ]
  },
  {
   "cell_type": "markdown",
   "metadata": {},
   "source": [
    "## Pregunta 16\n",
    "\n",
    "Escriba el código equivalente a la siguiente consulta SQL.\n",
    "\n",
    "    SELECT \n",
    "        REGEX_EXTRACT(birthday, '....-..-..', 2) \n",
    "    FROM \n",
    "        u;"
   ]
  },
  {
   "cell_type": "code",
   "execution_count": 71,
   "metadata": {},
   "outputs": [
    {
     "name": "stdout",
     "output_type": "stream",
     "text": [
      "(07)\n",
      "(05)\n",
      "(04)\n",
      "(01)\n",
      "(07)\n",
      "(10)\n",
      "(10)\n",
      "(02)\n",
      "(10)\n",
      "(02)\n",
      "(12)\n",
      "(12)\n",
      "(08)\n",
      "(12)\n",
      "(07)\n",
      "(02)\n",
      "(04)\n",
      "(04)\n"
     ]
    }
   ],
   "source": [
    "%%pig\n",
    "p = foreach u generate REGEX_EXTRACT(birthday,'(.*)\\\\-(.*)\\\\-(.*)',2);\n",
    "dump p;"
   ]
  },
  {
   "cell_type": "markdown",
   "metadata": {},
   "source": [
    "## Pregunta 17\n",
    "\n",
    "Escriba el código equivalente a la siguiente consulta SQL.\n",
    "\n",
    "    SELECT  \n",
    "        firstname,\n",
    "        SUBSTRING_INDEX(firstname, 'a', 1)\n",
    "    FROM \n",
    "        u;"
   ]
  },
  {
   "cell_type": "code",
   "execution_count": 72,
   "metadata": {},
   "outputs": [
    {
     "name": "stdout",
     "output_type": "stream",
     "text": [
      "(4)\n",
      "(1)\n",
      "(-1)\n",
      "(-1)\n",
      "(-1)\n",
      "(-1)\n",
      "(-1)\n",
      "(1)\n",
      "(-1)\n",
      "(3)\n",
      "(4)\n",
      "(-1)\n",
      "(4)\n",
      "(-1)\n",
      "(-1)\n",
      "(2)\n",
      "(2)\n",
      "(2)\n"
     ]
    }
   ],
   "source": [
    "%%pig\n",
    "q = foreach u generate INDEXOF(firstname,'a',1);\n",
    "dump q;"
   ]
  },
  {
   "cell_type": "markdown",
   "metadata": {},
   "source": [
    "## Pregunta 18\n",
    "\n",
    "Escriba el código equivalente a la siguiente consulta SQL.\n",
    "\n",
    "    SELECT \n",
    "        firstname \n",
    "    FROM \n",
    "        u \n",
    "    WHERE \n",
    "        SUBSTRING(firstname, 0, 1) >= 'm';"
   ]
  },
  {
   "cell_type": "code",
   "execution_count": 86,
   "metadata": {},
   "outputs": [
    {
     "name": "stdout",
     "output_type": "stream",
     "text": [
      "(Vivian)\n",
      "(Roth)\n",
      "(Zoe)\n",
      "(Merritt)\n",
      "(Vivian)\n"
     ]
    }
   ],
   "source": [
    "%%pig\n",
    "r = foreach u generate firstname, SUBSTRING(firstname,0,1);\n",
    "r = filter r by REGEX_EXTRACT($1,'(.*)',1)>='M';\n",
    "r = foreach r generate $0;\n",
    "dump r;"
   ]
  },
  {
   "cell_type": "markdown",
   "metadata": {},
   "source": [
    "## Pregunta 19\n",
    "\n",
    "Escriba el código equivalente a la siguiente consulta SQL.\n",
    "\n",
    "    SELECT \n",
    "        firstname, \n",
    "        LOCATE('ia', firstname) \n",
    "    FROM \n",
    "        u;"
   ]
  },
  {
   "cell_type": "code",
   "execution_count": 18,
   "metadata": {},
   "outputs": [
    {
     "name": "stdout",
     "output_type": "stream",
     "text": [
      "(3)\n",
      "(-1)\n",
      "(-1)\n",
      "(-1)\n",
      "(-1)\n",
      "(-1)\n",
      "(-1)\n",
      "(-1)\n",
      "(-1)\n",
      "(-1)\n",
      "(-1)\n",
      "(-1)\n",
      "(3)\n",
      "(-1)\n",
      "(-1)\n",
      "(-1)\n",
      "(-1)\n",
      "(-1)\n"
     ]
    }
   ],
   "source": [
    "%%pig\n",
    "s = foreach u generate INDEXOF(firstname,'ia',0);\n",
    "dump s;"
   ]
  },
  {
   "cell_type": "markdown",
   "metadata": {},
   "source": [
    "## Pregunta 20\n",
    "\n",
    "Escriba el código en Pig para manipulación de fechas que genere sea equivalente a la siguiente consulta SQL.\n",
    "\n",
    "    SELECT \n",
    "        birthday, \n",
    "        DATE_FORMAT(birthday, \"yyyy\"),\n",
    "        DATE_FORMAT(birthday, \"yy\"),\n",
    "    FROM \n",
    "        persons\n",
    "    LIMIT\n",
    "        5;"
   ]
  },
  {
   "cell_type": "code",
   "execution_count": 20,
   "metadata": {},
   "outputs": [
    {
     "name": "stdout",
     "output_type": "stream",
     "text": [
      "(1971,71)\n",
      "(1974,74)\n",
      "(1973,73)\n",
      "(1975,75)\n",
      "(1974,74)\n",
      "(1974,74)\n",
      "(1970,70)\n",
      "(1969,69)\n",
      "(1974,74)\n",
      "(1975,75)\n",
      "(1969,69)\n",
      "(1973,73)\n",
      "(1970,70)\n",
      "(1972,72)\n",
      "(1970,70)\n",
      "(1974,74)\n",
      "(1973,73)\n",
      "(1973,73)\n"
     ]
    }
   ],
   "source": [
    "%%pig\n",
    "t = foreach u generate SUBSTRING(birthday,0,4), SUBSTRING(birthday,2,4);\n",
    "dump t;"
   ]
  },
  {
   "cell_type": "markdown",
   "metadata": {},
   "source": [
    "## Pregunta 21\n",
    "\n",
    "Escriba el código en Pig para manipulación de fechas que genere la siguiente salida.\n",
    "\n",
    "    (1971-07-08,jul,07,7)\n",
    "    (1974-05-23,may,05,5)\n",
    "    (1973-04-22,abr,04,4)\n",
    "    (1975-01-29,ene,01,1)\n",
    "    (1974-07-03,jul,07,7)\n",
    "    (1974-10-18,oct,10,10)\n",
    "    (1970-10-05,oct,10,10)\n",
    "    (1969-02-24,feb,02,2)\n",
    "    (1974-10-17,oct,10,10)\n",
    "    (1975-02-28,feb,02,2)\n",
    "    (1969-12-07,dic,12,12)\n",
    "    (1973-12-24,dic,12,12)\n",
    "    (1970-08-27,ago,08,8)\n",
    "    (1972-12-12,dic,12,12)\n",
    "    (1970-07-01,jul,07,7)\n",
    "    (1974-02-11,feb,02,2)\n",
    "    (1973-04-01,abr,04,4)\n",
    "    (1973-04-29,abr,04,4)"
   ]
  },
  {
   "cell_type": "code",
   "execution_count": 294,
   "metadata": {},
   "outputs": [
    {
     "name": "stdout",
     "output_type": "stream",
     "text": [
      "(1971-07-08,jul,07,7)\n",
      "(1974-05-23,may,05,5)\n",
      "(1973-04-22,abr,04,4)\n",
      "(1975-01-29,ene,01,1)\n",
      "(1974-07-03,jul,07,7)\n",
      "(1974-10-18,oct,10,10)\n",
      "(1970-10-05,oct,10,10)\n",
      "(1969-02-24,feb,02,2)\n",
      "(1974-10-17,oct,10,10)\n",
      "(1975-02-28,feb,02,2)\n",
      "(1969-12-07,dic,12,12)\n",
      "(1973-12-24,dic,12,12)\n",
      "(1970-08-27,ago,08,8)\n",
      "(1972-12-12,dic,12,12)\n",
      "(1970-07-01,jul,07,7)\n",
      "(1974-02-11,feb,02,2)\n",
      "(1973-04-01,abr,04,4)\n",
      "(1973-04-29,abr,04,4)\n"
     ]
    }
   ],
   "source": [
    "%%pig\n",
    "v = foreach u generate birthday, SUBSTRING(birthday,5,7),\n",
    "GetMonth(ToDate(birthday,'yyyy-MM-dd')),\n",
    "SUBSTRING(birthday,5,7);\n",
    "v = foreach v generate $0,\n",
    "REPLACE(REPLACE(REPLACE(REPLACE(REPLACE(\n",
    "    REPLACE(REPLACE(REPLACE($3,'01','ene'),'02','feb'),'04','abr'),\n",
    "    '05','may'),'07','jul'),'08','ago'),'10','oct'),'12','dic'), $1, $2; \n",
    "DUMP v;"
   ]
  },
  {
   "cell_type": "markdown",
   "metadata": {},
   "source": [
    "## Pregunta 22\n",
    "\n",
    "Escriba el código en Pig para manipulación de fechas que genere la siguiente salida:\n",
    "\n",
    "    (1971-07-08,08,8,jue,jueves)\n",
    "    (1974-05-23,23,23,jue,jueves)\n",
    "    (1973-04-22,22,22,dom,domingo)\n",
    "    (1975-01-29,29,29,mié,miércoles)\n",
    "    (1974-07-03,03,3,mié,miércoles)\n",
    "    (1974-10-18,18,18,vie,viernes)\n",
    "    (1970-10-05,05,5,lun,lunes)\n",
    "    (1969-02-24,24,24,lun,lunes)\n",
    "    (1974-10-17,17,17,jue,jueves)\n",
    "    (1975-02-28,28,28,vie,viernes)\n",
    "    (1969-12-07,07,7,dom,domingo)\n",
    "    (1973-12-24,24,24,lun,lunes)\n",
    "    (1970-08-27,27,27,jue,jueves)\n",
    "    (1972-12-12,12,12,mar,martes)\n",
    "    (1970-07-01,01,1,mié,miércoles)\n",
    "    (1974-02-11,11,11,lun,lunes)\n",
    "    (1973-04-01,01,1,dom,domingo)\n",
    "    (1973-04-29,29,29,dom,domingo)"
   ]
  },
  {
   "cell_type": "code",
   "execution_count": 300,
   "metadata": {},
   "outputs": [
    {
     "name": "stdout",
     "output_type": "stream",
     "text": [
      "(1971-07-08,08,8,08)\n",
      "(1974-05-23,23,23,23)\n",
      "(1973-04-22,22,22,22)\n",
      "(1975-01-29,29,29,29)\n",
      "(1974-07-03,03,3,03)\n",
      "(1974-10-18,18,18,18)\n",
      "(1970-10-05,05,5,05)\n",
      "(1969-02-24,24,24,24)\n",
      "(1974-10-17,17,17,17)\n",
      "(1975-02-28,28,28,28)\n",
      "(1969-12-07,07,7,07)\n",
      "(1973-12-24,24,24,24)\n",
      "(1970-08-27,27,27,27)\n",
      "(1972-12-12,12,12,12)\n",
      "(1970-07-01,01,1,01)\n",
      "(1974-02-11,11,11,11)\n",
      "(1973-04-01,01,1,01)\n",
      "(1973-04-29,29,29,29)\n"
     ]
    }
   ],
   "source": [
    "%%pig\n",
    "w = foreach u generate birthday, SUBSTRING(birthday,8,10),\n",
    "GetDay(ToDate(birthday,'yyyy-MM-dd')),\n",
    "SUBSTRING(birthday,8,10);\n",
    "DUMP w;"
   ]
  },
  {
   "cell_type": "markdown",
   "metadata": {},
   "source": [
    "## Pregunta 23\n",
    "\n",
    "Cuente la cantidad de personas nacidas por año."
   ]
  },
  {
   "cell_type": "code",
   "execution_count": 22,
   "metadata": {},
   "outputs": [
    {
     "name": "stdout",
     "output_type": "stream",
     "text": [
      "(1969,2)\n",
      "(1970,3)\n",
      "(1971,1)\n",
      "(1972,1)\n",
      "(1973,4)\n",
      "(1974,5)\n",
      "(1975,2)\n"
     ]
    }
   ],
   "source": [
    "%%pig\n",
    "x = foreach u generate SUBSTRING (birthday,0,4);\n",
    "grouped_x = GROUP x BY $0;\n",
    "wordcount_x = FOREACH grouped_x GENERATE group, COUNT(x);\n",
    "dump wordcount_x;"
   ]
  },
  {
   "cell_type": "markdown",
   "metadata": {},
   "source": [
    "---"
   ]
  },
  {
   "cell_type": "code",
   "execution_count": null,
   "metadata": {},
   "outputs": [],
   "source": [
    "!rm pig_* data.csv"
   ]
  },
  {
   "cell_type": "markdown",
   "metadata": {},
   "source": [
    "---"
   ]
  }
 ],
 "metadata": {
  "kernelspec": {
   "display_name": "Python 3",
   "language": "python",
   "name": "python3"
  },
  "language_info": {
   "codemirror_mode": {
    "name": "ipython",
    "version": 3
   },
   "file_extension": ".py",
   "mimetype": "text/x-python",
   "name": "python",
   "nbconvert_exporter": "python",
   "pygments_lexer": "ipython3",
   "version": "3.6.5"
  }
 },
 "nbformat": 4,
 "nbformat_minor": 2
}
